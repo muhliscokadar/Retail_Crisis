{
 "cells": [
  {
   "cell_type": "code",
   "execution_count": 20,
   "metadata": {},
   "outputs": [],
   "source": [
    "import csv\n",
    "import pandas as pd\n",
    "import matplotlib.pyplot as plt\n",
    "import numpy as np"
   ]
  },
  {
   "cell_type": "code",
   "execution_count": 21,
   "metadata": {},
   "outputs": [
    {
     "data": {
      "text/html": [
       "<div>\n",
       "<style scoped>\n",
       "    .dataframe tbody tr th:only-of-type {\n",
       "        vertical-align: middle;\n",
       "    }\n",
       "\n",
       "    .dataframe tbody tr th {\n",
       "        vertical-align: top;\n",
       "    }\n",
       "\n",
       "    .dataframe thead th {\n",
       "        text-align: right;\n",
       "    }\n",
       "</style>\n",
       "<table border=\"1\" class=\"dataframe\">\n",
       "  <thead>\n",
       "    <tr style=\"text-align: right;\">\n",
       "      <th></th>\n",
       "      <th>Year</th>\n",
       "      <th>shopping_sales</th>\n",
       "      <th>furniture_sales</th>\n",
       "      <th>electronic_sales</th>\n",
       "      <th>grocery_sales</th>\n",
       "    </tr>\n",
       "  </thead>\n",
       "  <tbody>\n",
       "    <tr>\n",
       "      <th>0</th>\n",
       "      <td>2000</td>\n",
       "      <td>167112.0</td>\n",
       "      <td>91198.0</td>\n",
       "      <td>90369.0</td>\n",
       "      <td>401587.0</td>\n",
       "    </tr>\n",
       "    <tr>\n",
       "      <th>1</th>\n",
       "      <td>2001</td>\n",
       "      <td>167593.0</td>\n",
       "      <td>91480.0</td>\n",
       "      <td>88009.0</td>\n",
       "      <td>418561.0</td>\n",
       "    </tr>\n",
       "    <tr>\n",
       "      <th>2</th>\n",
       "      <td>2002</td>\n",
       "      <td>172308.0</td>\n",
       "      <td>94468.0</td>\n",
       "      <td>91188.0</td>\n",
       "      <td>420292.0</td>\n",
       "    </tr>\n",
       "    <tr>\n",
       "      <th>3</th>\n",
       "      <td>2003</td>\n",
       "      <td>178417.0</td>\n",
       "      <td>96619.0</td>\n",
       "      <td>92505.0</td>\n",
       "      <td>428342.0</td>\n",
       "    </tr>\n",
       "    <tr>\n",
       "      <th>4</th>\n",
       "      <td>2004</td>\n",
       "      <td>189393.0</td>\n",
       "      <td>103327.0</td>\n",
       "      <td>99637.0</td>\n",
       "      <td>439949.0</td>\n",
       "    </tr>\n",
       "    <tr>\n",
       "      <th>5</th>\n",
       "      <td>2005</td>\n",
       "      <td>200194.0</td>\n",
       "      <td>109069.0</td>\n",
       "      <td>106128.0</td>\n",
       "      <td>457697.0</td>\n",
       "    </tr>\n",
       "    <tr>\n",
       "      <th>6</th>\n",
       "      <td>2006</td>\n",
       "      <td>212950.0</td>\n",
       "      <td>113119.0</td>\n",
       "      <td>110105.0</td>\n",
       "      <td>472130.0</td>\n",
       "    </tr>\n",
       "    <tr>\n",
       "      <th>7</th>\n",
       "      <td>2007</td>\n",
       "      <td>221587.0</td>\n",
       "      <td>111410.0</td>\n",
       "      <td>110258.0</td>\n",
       "      <td>491835.0</td>\n",
       "    </tr>\n",
       "    <tr>\n",
       "      <th>8</th>\n",
       "      <td>2008</td>\n",
       "      <td>216971.0</td>\n",
       "      <td>98844.0</td>\n",
       "      <td>108827.0</td>\n",
       "      <td>510355.0</td>\n",
       "    </tr>\n",
       "    <tr>\n",
       "      <th>9</th>\n",
       "      <td>2009</td>\n",
       "      <td>204773.0</td>\n",
       "      <td>84876.0</td>\n",
       "      <td>98067.0</td>\n",
       "      <td>510394.0</td>\n",
       "    </tr>\n",
       "    <tr>\n",
       "      <th>10</th>\n",
       "      <td>2010</td>\n",
       "      <td>213060.0</td>\n",
       "      <td>85216.0</td>\n",
       "      <td>99720.0</td>\n",
       "      <td>521106.0</td>\n",
       "    </tr>\n",
       "    <tr>\n",
       "      <th>11</th>\n",
       "      <td>2011</td>\n",
       "      <td>227915.0</td>\n",
       "      <td>87525.0</td>\n",
       "      <td>101942.0</td>\n",
       "      <td>547530.0</td>\n",
       "    </tr>\n",
       "    <tr>\n",
       "      <th>12</th>\n",
       "      <td>2012</td>\n",
       "      <td>238766.0</td>\n",
       "      <td>91438.0</td>\n",
       "      <td>103506.0</td>\n",
       "      <td>562952.0</td>\n",
       "    </tr>\n",
       "    <tr>\n",
       "      <th>13</th>\n",
       "      <td>2013</td>\n",
       "      <td>244786.0</td>\n",
       "      <td>95325.0</td>\n",
       "      <td>104750.0</td>\n",
       "      <td>574968.0</td>\n",
       "    </tr>\n",
       "    <tr>\n",
       "      <th>14</th>\n",
       "      <td>2014</td>\n",
       "      <td>250287.0</td>\n",
       "      <td>99607.0</td>\n",
       "      <td>104923.0</td>\n",
       "      <td>599806.0</td>\n",
       "    </tr>\n",
       "    <tr>\n",
       "      <th>15</th>\n",
       "      <td>2015</td>\n",
       "      <td>255737.0</td>\n",
       "      <td>106407.0</td>\n",
       "      <td>103870.0</td>\n",
       "      <td>613456.0</td>\n",
       "    </tr>\n",
       "  </tbody>\n",
       "</table>\n",
       "</div>"
      ],
      "text/plain": [
       "    Year  shopping_sales  furniture_sales  electronic_sales  grocery_sales\n",
       "0   2000        167112.0          91198.0           90369.0       401587.0\n",
       "1   2001        167593.0          91480.0           88009.0       418561.0\n",
       "2   2002        172308.0          94468.0           91188.0       420292.0\n",
       "3   2003        178417.0          96619.0           92505.0       428342.0\n",
       "4   2004        189393.0         103327.0           99637.0       439949.0\n",
       "5   2005        200194.0         109069.0          106128.0       457697.0\n",
       "6   2006        212950.0         113119.0          110105.0       472130.0\n",
       "7   2007        221587.0         111410.0          110258.0       491835.0\n",
       "8   2008        216971.0          98844.0          108827.0       510355.0\n",
       "9   2009        204773.0          84876.0           98067.0       510394.0\n",
       "10  2010        213060.0          85216.0           99720.0       521106.0\n",
       "11  2011        227915.0          87525.0          101942.0       547530.0\n",
       "12  2012        238766.0          91438.0          103506.0       562952.0\n",
       "13  2013        244786.0          95325.0          104750.0       574968.0\n",
       "14  2014        250287.0          99607.0          104923.0       599806.0\n",
       "15  2015        255737.0         106407.0          103870.0       613456.0"
      ]
     },
     "execution_count": 21,
     "metadata": {},
     "output_type": "execute_result"
    }
   ],
   "source": [
    "df = pd.read_csv(\"../clean_data/Output/all_salesdata.csv\")\n",
    "df.head(16)"
   ]
  },
  {
   "cell_type": "code",
   "execution_count": 22,
   "metadata": {},
   "outputs": [],
   "source": [
    "# shop_avg = df[\"shopping_sales\"].mean()\n",
    "# furn_avg = df[\"furniture_sales\"].mean()\n",
    "# elec_avg = df[\"electronic_sales\"].mean()\n",
    "# groc_avg = df[\"grocery_sales\"].mean()\n",
    "\n",
    "furniture_dec = df['furniture_sales'][15]-df['furniture_sales'][0]\n",
    "electronics_dec = df['electronic_sales'][15]-df['electronic_sales'][0]\n",
    "grocery_dec = df['grocery_sales'][15]-df['grocery_sales'][0]\n",
    "clothing_dec = df['shopping_sales'][15]-df['shopping_sales'][0]\n",
    "\n",
    "labels = [\"Furniture\", \"Electronics\", \"Grocery\", \"Clothing\"]\n",
    "\n",
    "sizes = [furniture_dec, electronics_dec, grocery_dec, clothing_dec]\n",
    "\n",
    "x = range(4)\n",
    "\n"
   ]
  },
  {
   "cell_type": "code",
   "execution_count": 24,
   "metadata": {
    "scrolled": true
   },
   "outputs": [
    {
     "data": {
      "image/png": "[encoded data removed]",
      "text/plain": [
       "<Figure size 432x288 with 1 Axes>"
      ]
     },
     "metadata": {
      "needs_background": "light"
     },
     "output_type": "display_data"
    }
   ],
   "source": [
    "# plt.pie(sizes, explode=explode, labels=labels, colors=colors,\n",
    "#         autopct=\"%1.1f%%\", shadow=True, startangle=140)\n",
    "# plt.axis(\"equal\")\n",
    "# plt.title(\"Total sales across sectors\")\n",
    "# plt.savefig(\"../plots/complete_plots/TotalSalesPie.png\")\n",
    "plt.bar(x, sizes, alpha = .8,edgecolor='k')\n",
    "plt.xticks(x,labels)\n",
    "plt.xlabel(\"Sector\")\n",
    "plt.ylabel(\"Sales (Millions $)\")\n",
    "plt.title(\"15 Year Change in Yearly Sales\")\n",
    "plt.savefig(\"../plots/complete_plots/SalesIncreaseBar.png\",bbox_inches='tight')\n"
   ]
  },
  {
   "cell_type": "code",
   "execution_count": 6,
   "metadata": {},
   "outputs": [
    {
     "data": {
      "text/plain": [
       "<Figure size 432x288 with 0 Axes>"
      ]
     },
     "metadata": {},
     "output_type": "display_data"
    }
   ],
   "source": []
  },
  {
   "cell_type": "code",
   "execution_count": null,
   "metadata": {},
   "outputs": [],
   "source": []
  }
 ],
 "metadata": {
  "kernelspec": {
   "display_name": "Python 3",
   "language": "python",
   "name": "python3"
  },
  "language_info": {
   "codemirror_mode": {
    "name": "ipython",
    "version": 3
   },
   "file_extension": ".py",
   "mimetype": "text/x-python",
   "name": "python",
   "nbconvert_exporter": "python",
   "pygments_lexer": "ipython3",
   "version": "3.7.1"
  }
 },
 "nbformat": 4,
 "nbformat_minor": 2
}
