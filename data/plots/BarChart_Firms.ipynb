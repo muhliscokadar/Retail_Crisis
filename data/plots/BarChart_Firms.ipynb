{
 "cells": [
  {
   "cell_type": "code",
   "execution_count": 107,
   "metadata": {},
   "outputs": [],
   "source": [
    "import pandas as pd\n",
    "import numpy as np\n",
    "import matplotlib.pyplot as plt\n",
    "\n",
    "other_file = \"../merged_data/merged_all_data.csv\""
   ]
  },
  {
   "cell_type": "code",
   "execution_count": 108,
   "metadata": {},
   "outputs": [
    {
     "data": {
      "text/html": [
       "<div>\n",
       "<style scoped>\n",
       "    .dataframe tbody tr th:only-of-type {\n",
       "        vertical-align: middle;\n",
       "    }\n",
       "\n",
       "    .dataframe tbody tr th {\n",
       "        vertical-align: top;\n",
       "    }\n",
       "\n",
       "    .dataframe thead th {\n",
       "        text-align: right;\n",
       "    }\n",
       "</style>\n",
       "<table border=\"1\" class=\"dataframe\">\n",
       "  <thead>\n",
       "    <tr style=\"text-align: right;\">\n",
       "      <th>Description</th>\n",
       "      <th>Furniture</th>\n",
       "      <th>Electronics</th>\n",
       "      <th>Grocery</th>\n",
       "      <th>Clothing</th>\n",
       "    </tr>\n",
       "  </thead>\n",
       "  <tbody>\n",
       "    <tr>\n",
       "      <th>Employment_2000</th>\n",
       "      <td>549184</td>\n",
       "      <td>407321</td>\n",
       "      <td>2716868</td>\n",
       "      <td>1368665</td>\n",
       "    </tr>\n",
       "    <tr>\n",
       "      <th>Employment_2001</th>\n",
       "      <td>567318</td>\n",
       "      <td>425736</td>\n",
       "      <td>2665804</td>\n",
       "      <td>1392626</td>\n",
       "    </tr>\n",
       "    <tr>\n",
       "      <th>Employment_2002</th>\n",
       "      <td>551567</td>\n",
       "      <td>418725</td>\n",
       "      <td>2569351</td>\n",
       "      <td>1408948</td>\n",
       "    </tr>\n",
       "    <tr>\n",
       "      <th>Employment_2003</th>\n",
       "      <td>560717</td>\n",
       "      <td>419321</td>\n",
       "      <td>2594727</td>\n",
       "      <td>1467427</td>\n",
       "    </tr>\n",
       "    <tr>\n",
       "      <th>Employment_2004</th>\n",
       "      <td>576733</td>\n",
       "      <td>457819</td>\n",
       "      <td>2660804</td>\n",
       "      <td>1555098</td>\n",
       "    </tr>\n",
       "    <tr>\n",
       "      <th>Employment_2005</th>\n",
       "      <td>575629</td>\n",
       "      <td>469248</td>\n",
       "      <td>2642609</td>\n",
       "      <td>1555928</td>\n",
       "    </tr>\n",
       "    <tr>\n",
       "      <th>Employment_2006</th>\n",
       "      <td>578075</td>\n",
       "      <td>488784</td>\n",
       "      <td>2615175</td>\n",
       "      <td>1631450</td>\n",
       "    </tr>\n",
       "    <tr>\n",
       "      <th>Employment_2007</th>\n",
       "      <td>596538</td>\n",
       "      <td>500780</td>\n",
       "      <td>2564533</td>\n",
       "      <td>1648157</td>\n",
       "    </tr>\n",
       "    <tr>\n",
       "      <th>Employment_2008</th>\n",
       "      <td>533096</td>\n",
       "      <td>464927</td>\n",
       "      <td>2570754</td>\n",
       "      <td>1648150</td>\n",
       "    </tr>\n",
       "    <tr>\n",
       "      <th>Employment_2009</th>\n",
       "      <td>449836</td>\n",
       "      <td>448946</td>\n",
       "      <td>2561669</td>\n",
       "      <td>1535923</td>\n",
       "    </tr>\n",
       "    <tr>\n",
       "      <th>Employment_2010</th>\n",
       "      <td>429172</td>\n",
       "      <td>411516</td>\n",
       "      <td>2526781</td>\n",
       "      <td>1528512</td>\n",
       "    </tr>\n",
       "    <tr>\n",
       "      <th>Employment_2011</th>\n",
       "      <td>424221</td>\n",
       "      <td>434297</td>\n",
       "      <td>2542436</td>\n",
       "      <td>1659696</td>\n",
       "    </tr>\n",
       "    <tr>\n",
       "      <th>Employment_2012</th>\n",
       "      <td>422595</td>\n",
       "      <td>428298</td>\n",
       "      <td>2582042</td>\n",
       "      <td>1630575</td>\n",
       "    </tr>\n",
       "    <tr>\n",
       "      <th>Employment_2013</th>\n",
       "      <td>426855</td>\n",
       "      <td>408456</td>\n",
       "      <td>2606330</td>\n",
       "      <td>1710141</td>\n",
       "    </tr>\n",
       "    <tr>\n",
       "      <th>Employment_2014</th>\n",
       "      <td>426855</td>\n",
       "      <td>408456</td>\n",
       "      <td>2606330</td>\n",
       "      <td>1710141</td>\n",
       "    </tr>\n",
       "    <tr>\n",
       "      <th>Employment_2015</th>\n",
       "      <td>445240</td>\n",
       "      <td>407409</td>\n",
       "      <td>2800048</td>\n",
       "      <td>1711022</td>\n",
       "    </tr>\n",
       "  </tbody>\n",
       "</table>\n",
       "</div>"
      ],
      "text/plain": [
       "Description      Furniture  Electronics  Grocery  Clothing\n",
       "Employment_2000     549184       407321  2716868   1368665\n",
       "Employment_2001     567318       425736  2665804   1392626\n",
       "Employment_2002     551567       418725  2569351   1408948\n",
       "Employment_2003     560717       419321  2594727   1467427\n",
       "Employment_2004     576733       457819  2660804   1555098\n",
       "Employment_2005     575629       469248  2642609   1555928\n",
       "Employment_2006     578075       488784  2615175   1631450\n",
       "Employment_2007     596538       500780  2564533   1648157\n",
       "Employment_2008     533096       464927  2570754   1648150\n",
       "Employment_2009     449836       448946  2561669   1535923\n",
       "Employment_2010     429172       411516  2526781   1528512\n",
       "Employment_2011     424221       434297  2542436   1659696\n",
       "Employment_2012     422595       428298  2582042   1630575\n",
       "Employment_2013     426855       408456  2606330   1710141\n",
       "Employment_2014     426855       408456  2606330   1710141\n",
       "Employment_2015     445240       407409  2800048   1711022"
      ]
     },
     "execution_count": 108,
     "metadata": {},
     "output_type": "execute_result"
    }
   ],
   "source": [
    "other_df = pd.read_csv(other_file)\n",
    "\n",
    "cleaner_df = other_df.drop(columns=['NAICS Code'])\n",
    "employment_df = cleaner_df[['Description','Employment_2000','Employment_2001','Employment_2002','Employment_2003','Employment_2004',\n",
    "                           'Employment_2005','Employment_2006','Employment_2007','Employment_2008','Employment_2009',\n",
    "                           'Employment_2010','Employment_2011','Employment_2012','Employment_2013','Employment_2014','Employment_2015']]\n",
    "establishment_df = cleaner_df[['Description','Establishments_2000','Establishments_2001','Establishments_2002','Establishments_2003',\n",
    "                              'Establishments_2004','Establishments_2005','Establishments_2006','Establishments_2007','Establishments_2008',\n",
    "                              'Establishments_2009','Establishments_2010','Establishments_2011','Establishments_2012','Establishments_2013',\n",
    "                              'Establishments_2014','Establishments_2015']]\n",
    "establishment_df = establishment_df.transpose()\n",
    "establishment_df.columns = establishment_df.iloc[0]\n",
    "establishment_df = establishment_df.drop(establishment_df.index[0])\n",
    "\n",
    "employment_df = employment_df.transpose()\n",
    "employment_df.columns = employment_df.iloc[0]\n",
    "employment_df = employment_df.drop(employment_df.index[0])\n",
    "\n",
    "employment_df = employment_df.rename(columns = {'Furniture and Home Furnishings Stores':'Furniture',\n",
    "                                                'Electronics and Appliance Stores':'Electronics',\n",
    "                                                'Grocery Stores':'Grocery',\n",
    "                                                'Clothing and Clothing Accessories Stores':'Clothing'})\n",
    "establishment_df = establishment_df.rename(columns = {'Furniture and Home Furnishings Stores':'Furniture',\n",
    "                                                'Electronics and Appliance Stores':'Electronics',\n",
    "                                                'Grocery Stores':'Grocery',\n",
    "                                                'Clothing and Clothing Accessories Stores':'Clothing'})\n",
    "\n",
    "employment_df.Furniture = pd.to_numeric(employment_df.Furniture.str.replace(',',''), errors = 'coerce')\n",
    "employment_df.Electronics = pd.to_numeric(employment_df.Electronics.str.replace(',',''), errors = 'coerce')\n",
    "employment_df.Grocery = pd.to_numeric(employment_df.Grocery.str.replace(',',''), errors = 'coerce')\n",
    "employment_df.Clothing = pd.to_numeric(employment_df.Clothing.str.replace(',',''), errors = 'coerce')\n",
    "\n",
    "establishment_df.Furniture = pd.to_numeric(establishment_df.Furniture.str.replace(',',''), errors = 'coerce')\n",
    "establishment_df.Electronics = pd.to_numeric(establishment_df.Electronics.str.replace(',',''), errors = 'coerce')\n",
    "establishment_df.Grocery = pd.to_numeric(establishment_df.Grocery.str.replace(',',''), errors = 'coerce')\n",
    "establishment_df.Clothing = pd.to_numeric(establishment_df.Clothing.str.replace(',',''), errors = 'coerce')\n",
    "employment_df"
   ]
  },
  {
   "cell_type": "code",
   "execution_count": 109,
   "metadata": {},
   "outputs": [],
   "source": [
    "furniture_decrease = establishment_df['Furniture'][15]-establishment_df['Furniture'][0]\n",
    "electronics_decrease = establishment_df['Electronics'][15]-establishment_df['Electronics'][0]\n",
    "grocery_decrease = establishment_df['Grocery'][15]-establishment_df['Grocery'][0]\n",
    "clothing_decrease = establishment_df['Clothing'][15]-establishment_df['Clothing'][0]\n"
   ]
  },
  {
   "cell_type": "code",
   "execution_count": 110,
   "metadata": {},
   "outputs": [
    {
     "data": {
      "text/plain": [
       "[0, 1, 2, 3]"
      ]
     },
     "execution_count": 110,
     "metadata": {},
     "output_type": "execute_result"
    }
   ],
   "source": [
    "labels = [\"Furniture\", \"Electronics\", \"Grocery\", \"Clothing\"]\n",
    "sizes = [furniture_decrease, electronics_decrease, grocery_decrease, clothing_decrease]\n",
    "x = range(4)\n",
    "\n",
    "list(x)"
   ]
  },
  {
   "cell_type": "code",
   "execution_count": 111,
   "metadata": {},
   "outputs": [
    {
     "data": {
      "image/png": "[encoded data removed]",
      "text/plain": [
       "<Figure size 432x288 with 1 Axes>"
      ]
     },
     "metadata": {
      "needs_background": "light"
     },
     "output_type": "display_data"
    }
   ],
   "source": [
    "plt.bar(x, sizes, alpha = .6,color='forestgreen',edgecolor='k')\n",
    "plt.xticks(x,labels)\n",
    "plt.xlabel(\"Sector\")\n",
    "plt.ylabel(\"# Establishments\")\n",
    "plt.title(\"15 Year Change in Establishments\")\n",
    "plt.ylim(-15000,2000)\n",
    "plt.savefig(\"complete_plots/EstDecreaseBar.png\",bbox_inches='tight')\n"
   ]
  },
  {
   "cell_type": "code",
   "execution_count": 112,
   "metadata": {},
   "outputs": [],
   "source": [
    "em_furniture_decrease =( employment_df['Furniture'][15]-employment_df['Furniture'][0] )\n",
    "em_electronics_decrease = (employment_df['Electronics'][15]-employment_df['Electronics'][0])\n",
    "em_grocery_decrease = (employment_df['Grocery'][15]-employment_df['Grocery'][0])\n",
    "em_clothing_decrease = (employment_df['Clothing'][15]-employment_df['Clothing'][0])\n",
    "\n",
    "sizes2 = [em_furniture_decrease,em_electronics_decrease,em_grocery_decrease,em_clothing_decrease]"
   ]
  },
  {
   "cell_type": "code",
   "execution_count": 113,
   "metadata": {},
   "outputs": [
    {
     "data": {
      "image/png": "[encoded data removed]",
      "text/plain": [
       "<Figure size 432x288 with 1 Axes>"
      ]
     },
     "metadata": {
      "needs_background": "light"
     },
     "output_type": "display_data"
    }
   ],
   "source": [
    "plt.bar(x, sizes2, alpha = .7,color='darkcyan',edgecolor='k')\n",
    "plt.xticks(x,labels)\n",
    "plt.xlabel(\"Sector\")\n",
    "plt.ylabel(\"Number of Employees\")\n",
    "plt.title(\"15 Year Change in Employees\")\n",
    "plt.savefig(\"complete_plots/EmployeeDecreaseBar.png\",bbox_inches='tight')\n"
   ]
  },
  {
   "cell_type": "code",
   "execution_count": 142,
   "metadata": {},
   "outputs": [
    {
     "data": {
      "image/png": "[encoded data removed]",
      "text/plain": [
       "<Figure size 432x288 with 2 Axes>"
      ]
     },
     "metadata": {
      "needs_background": "light"
     },
     "output_type": "display_data"
    }
   ],
   "source": [
    "# N=4\n",
    "# width = .35\n",
    "# ind = np.arange(N)\n",
    "# fig = plt.figure()\n",
    "# ax1 = fig.add_subplot(111)\n",
    "# rects1 = ax1.bar(ind, sizes2, alpha = .7,color='darkcyan',edgecolor='k',label='Employees',width=.275)\n",
    "# ax1.set_ylabel('# of Employees')\n",
    "# # plt.legend(loc=\"best\",fancybox=True, shadow=True)\n",
    "\n",
    "# ax2 = ax1.twinx()\n",
    "# rects2 = ax2.bar(ind+width, sizes, alpha = .6,color='forestgreen',edgecolor='k',label='Establishments',width=.275)\n",
    "# plt.title(\"Change Over 15 Years\")\n",
    "# ax2.set_ylabel('Number of Establishments', color='teal')\n",
    "\n",
    "# ax2.set_xticks(ind + width / 2)\n",
    "# ax2.set_xticklabels(labels)\n",
    "\n",
    "# ax2.legend( (rects1[0], rects2[0]), ('Employees', 'Establishments') )\n",
    "\n",
    "\n",
    "# for tl in ax2.get_yticklabels():\n",
    "#     tl.set_color('teal')\n",
    "# # plt.savefig(\"complete_plots/Sales_ratiklj;os.png\", bbox_inches='tight')"
   ]
  },
  {
   "cell_type": "code",
   "execution_count": null,
   "metadata": {},
   "outputs": [],
   "source": []
  }
 ],
 "metadata": {
  "kernelspec": {
   "display_name": "Python 3",
   "language": "python",
   "name": "python3"
  },
  "language_info": {
   "codemirror_mode": {
    "name": "ipython",
    "version": 3
   },
   "file_extension": ".py",
   "mimetype": "text/x-python",
   "name": "python",
   "nbconvert_exporter": "python",
   "pygments_lexer": "ipython3",
   "version": "3.7.1"
  }
 },
 "nbformat": 4,
 "nbformat_minor": 2
}
