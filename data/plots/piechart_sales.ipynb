{
 "cells": [
  {
   "cell_type": "code",
   "execution_count": 1,
   "metadata": {},
   "outputs": [],
   "source": [
    "import csv\n",
    "import pandas as pd\n",
    "import matplotlib.pyplot as plt\n",
    "import numpy as np"
   ]
  },
  {
   "cell_type": "code",
   "execution_count": 2,
   "metadata": {},
   "outputs": [
    {
     "data": {
      "text/html": [
       "<div>\n",
       "<style scoped>\n",
       "    .dataframe tbody tr th:only-of-type {\n",
       "        vertical-align: middle;\n",
       "    }\n",
       "\n",
       "    .dataframe tbody tr th {\n",
       "        vertical-align: top;\n",
       "    }\n",
       "\n",
       "    .dataframe thead th {\n",
       "        text-align: right;\n",
       "    }\n",
       "</style>\n",
       "<table border=\"1\" class=\"dataframe\">\n",
       "  <thead>\n",
       "    <tr style=\"text-align: right;\">\n",
       "      <th></th>\n",
       "      <th>Year</th>\n",
       "      <th>shopping_sales</th>\n",
       "      <th>furniture_sales</th>\n",
       "      <th>electronic_sales</th>\n",
       "      <th>grocery_sales</th>\n",
       "    </tr>\n",
       "  </thead>\n",
       "  <tbody>\n",
       "    <tr>\n",
       "      <th>0</th>\n",
       "      <td>2000</td>\n",
       "      <td>167112.0</td>\n",
       "      <td>91198.0</td>\n",
       "      <td>90369.0</td>\n",
       "      <td>401587.0</td>\n",
       "    </tr>\n",
       "    <tr>\n",
       "      <th>1</th>\n",
       "      <td>2001</td>\n",
       "      <td>167593.0</td>\n",
       "      <td>91480.0</td>\n",
       "      <td>88009.0</td>\n",
       "      <td>418561.0</td>\n",
       "    </tr>\n",
       "    <tr>\n",
       "      <th>2</th>\n",
       "      <td>2002</td>\n",
       "      <td>172308.0</td>\n",
       "      <td>94468.0</td>\n",
       "      <td>91188.0</td>\n",
       "      <td>420292.0</td>\n",
       "    </tr>\n",
       "    <tr>\n",
       "      <th>3</th>\n",
       "      <td>2003</td>\n",
       "      <td>178417.0</td>\n",
       "      <td>96619.0</td>\n",
       "      <td>92505.0</td>\n",
       "      <td>428342.0</td>\n",
       "    </tr>\n",
       "    <tr>\n",
       "      <th>4</th>\n",
       "      <td>2004</td>\n",
       "      <td>189393.0</td>\n",
       "      <td>103327.0</td>\n",
       "      <td>99637.0</td>\n",
       "      <td>439949.0</td>\n",
       "    </tr>\n",
       "    <tr>\n",
       "      <th>5</th>\n",
       "      <td>2005</td>\n",
       "      <td>200194.0</td>\n",
       "      <td>109069.0</td>\n",
       "      <td>106128.0</td>\n",
       "      <td>457697.0</td>\n",
       "    </tr>\n",
       "    <tr>\n",
       "      <th>6</th>\n",
       "      <td>2006</td>\n",
       "      <td>212950.0</td>\n",
       "      <td>113119.0</td>\n",
       "      <td>110105.0</td>\n",
       "      <td>472130.0</td>\n",
       "    </tr>\n",
       "    <tr>\n",
       "      <th>7</th>\n",
       "      <td>2007</td>\n",
       "      <td>221587.0</td>\n",
       "      <td>111410.0</td>\n",
       "      <td>110258.0</td>\n",
       "      <td>491835.0</td>\n",
       "    </tr>\n",
       "    <tr>\n",
       "      <th>8</th>\n",
       "      <td>2008</td>\n",
       "      <td>216971.0</td>\n",
       "      <td>98844.0</td>\n",
       "      <td>108827.0</td>\n",
       "      <td>510355.0</td>\n",
       "    </tr>\n",
       "  </tbody>\n",
       "</table>\n",
       "</div>"
      ],
      "text/plain": [
       "   Year  shopping_sales  furniture_sales  electronic_sales  grocery_sales\n",
       "0  2000        167112.0          91198.0           90369.0       401587.0\n",
       "1  2001        167593.0          91480.0           88009.0       418561.0\n",
       "2  2002        172308.0          94468.0           91188.0       420292.0\n",
       "3  2003        178417.0          96619.0           92505.0       428342.0\n",
       "4  2004        189393.0         103327.0           99637.0       439949.0\n",
       "5  2005        200194.0         109069.0          106128.0       457697.0\n",
       "6  2006        212950.0         113119.0          110105.0       472130.0\n",
       "7  2007        221587.0         111410.0          110258.0       491835.0\n",
       "8  2008        216971.0          98844.0          108827.0       510355.0"
      ]
     },
     "execution_count": 2,
     "metadata": {},
     "output_type": "execute_result"
    }
   ],
   "source": [
    "df = pd.read_csv(\"../clean_data/Output/all_salesdata.csv\")\n",
    "df.head(9)"
   ]
  },
  {
   "cell_type": "code",
   "execution_count": 3,
   "metadata": {},
   "outputs": [
    {
     "name": "stdout",
     "output_type": "stream",
     "text": [
      "498185.0\n"
     ]
    }
   ],
   "source": [
    "shop_avg = df[\"shopping_sales\"].mean()\n",
    "furn_avg = df[\"furniture_sales\"].mean()\n",
    "elec_avg = df[\"electronic_sales\"].mean()\n",
    "groc_avg = df[\"grocery_sales\"].mean()\n",
    "\n",
    "print(groc_avg)\n",
    "\n",
    "# Labels for the sections of our pie chart\n",
    "labels = [\"Shopping\", \"Furniture\", \"Electronic\", \"Grocery\"]\n",
    "\n",
    "# The values of each section of the pie chart\n",
    "sizes = [shop_avg, furn_avg, elec_avg, groc_avg]\n",
    "\n",
    "# The colors of each section of the pie chart\n",
    "colors = [\"c\", \"cadetblue\", \"dodgerblue\", \"lightskyblue\"]\n",
    "\n",
    "# Tells matplotlib to seperate the \"Python\" section from the others\n",
    "explode = (0, 0, 0, 0.1)"
   ]
  },
  {
   "cell_type": "code",
   "execution_count": 4,
   "metadata": {
    "scrolled": true
   },
   "outputs": [
    {
     "data": {
      "text/plain": [
       "(-1.1115236166306843,\n",
       " 1.1903635069347944,\n",
       " -1.1102593179393734,\n",
       " 1.1707467233831117)"
      ]
     },
     "execution_count": 4,
     "metadata": {},
     "output_type": "execute_result"
    },
    {
     "data": {
      "image/png": "[encoded data removed]",
      "text/plain": [
       "<Figure size 432x288 with 1 Axes>"
      ]
     },
     "metadata": {},
     "output_type": "display_data"
    }
   ],
   "source": [
    "plt.pie(sizes, explode=explode, labels=labels, colors=colors,\n",
    "        autopct=\"%1.1f%%\", shadow=True, startangle=140)\n",
    "plt.axis(\"equal\")"
   ]
  },
  {
   "cell_type": "code",
   "execution_count": 6,
   "metadata": {},
   "outputs": [
    {
     "data": {
      "text/plain": [
       "<Figure size 432x288 with 0 Axes>"
      ]
     },
     "metadata": {},
     "output_type": "display_data"
    }
   ],
   "source": [
    "plt.savefig(\"../plots/TotalSalesPie.png\")"
   ]
  },
  {
   "cell_type": "code",
   "execution_count": null,
   "metadata": {},
   "outputs": [],
   "source": []
  }
 ],
 "metadata": {
  "kernelspec": {
   "display_name": "Python 3",
   "language": "python",
   "name": "python3"
  },
  "language_info": {
   "codemirror_mode": {
    "name": "ipython",
    "version": 3
   },
   "file_extension": ".py",
   "mimetype": "text/x-python",
   "name": "python",
   "nbconvert_exporter": "python",
   "pygments_lexer": "ipython3",
   "version": "3.7.1"
  }
 },
 "nbformat": 4,
 "nbformat_minor": 2
}
