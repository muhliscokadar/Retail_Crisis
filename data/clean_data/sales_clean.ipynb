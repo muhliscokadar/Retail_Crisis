{
 "cells": [
  {
   "cell_type": "code",
   "execution_count": 1,
   "metadata": {},
   "outputs": [],
   "source": [
    "import pandas as pd"
   ]
  },
  {
   "cell_type": "code",
   "execution_count": 2,
   "metadata": {},
   "outputs": [],
   "source": [
    "shopping_file = \"../raw_data/Clothing.csv\"\n",
    "furniture_file = \"../raw_data/Furniture.csv\"\n",
    "electronic_file = \"../raw_data/Electronics_Appliance.csv\"\n",
    "grocery_file = \"../raw_data/Grocery.csv\"\n"
   ]
  },
  {
   "cell_type": "code",
   "execution_count": 3,
   "metadata": {},
   "outputs": [],
   "source": [
    "shopping_df = pd.read_csv(shopping_file)\n",
    "furniture_df = pd.read_csv(furniture_file)\n",
    "electronic_df = pd.read_csv(electronic_file)\n",
    "grocery_df = pd.read_csv(grocery_file)"
   ]
  },
  {
   "cell_type": "code",
   "execution_count": 4,
   "metadata": {},
   "outputs": [],
   "source": [
    "shopping_df[['Period','Year']] = shopping_df['Period'].str.split('-',expand=True)\n",
    "furniture_df[['Period','Year']] = furniture_df['Period'].str.split('-',expand=True)\n",
    "electronic_df[['Period','Year']] = electronic_df['Period'].str.split('-',expand=True)\n",
    "grocery_df[['Period','Year']] = grocery_df['Period'].str.split('-',expand=True)\n"
   ]
  },
  {
   "cell_type": "code",
   "execution_count": 5,
   "metadata": {},
   "outputs": [],
   "source": [
    "shopping_df = shopping_df.rename(columns={\"Period\":\"Month\",\n",
    "                            \"Value\":\"Sales\"})\n",
    "shopping_df = shopping_df[['Year','Month','Sales']]\n",
    "\n",
    "furniture_df = furniture_df.rename(columns={\"Period\":\"Month\",\n",
    "                            \"Value\":\"Sales\"})\n",
    "furniture_df = furniture_df[['Year','Month','Sales']]\n",
    "\n",
    "electronic_df = electronic_df.rename(columns={\"Period\":\"Month\",\n",
    "                            \"Value\":\"Sales\"})\n",
    "electronic_df = electronic_df[['Year','Month','Sales']]\n",
    "\n",
    "grocery_df = grocery_df.rename(columns={\"Period\":\"Month\",\n",
    "                            \"Value\":\"Sales\"})\n",
    "grocery_df = grocery_df[['Year','Month','Sales']]"
   ]
  },
  {
   "cell_type": "code",
   "execution_count": 6,
   "metadata": {},
   "outputs": [],
   "source": [
    "yearly_sales = shopping_df.groupby(['Year'])\n",
    "shopping_yearly = yearly_sales.sum()\n",
    "\n",
    "yearly_sales = furniture_df.groupby(['Year'])\n",
    "furniture_yearly = yearly_sales.sum()\n",
    "\n",
    "yearly_sales = electronic_df.groupby(['Year'])\n",
    "electronic_yearly = yearly_sales.sum()\n",
    "\n",
    "yearly_sales = grocery_df.groupby(['Year'])\n",
    "grocery_yearly = yearly_sales.sum()\n",
    "\n"
   ]
  },
  {
   "cell_type": "code",
   "execution_count": 7,
   "metadata": {},
   "outputs": [],
   "source": [
    "all_yearly = pd.merge(shopping_yearly,furniture_yearly, on=\"Year\",suffixes=['_shopping','_furniture'])"
   ]
  },
  {
   "cell_type": "code",
   "execution_count": 8,
   "metadata": {},
   "outputs": [],
   "source": [
    "other_yearly = pd.merge(electronic_yearly,grocery_yearly, on=\"Year\",suffixes=['_electronic','_grocery'])"
   ]
  },
  {
   "cell_type": "code",
   "execution_count": 9,
   "metadata": {},
   "outputs": [],
   "source": [
    "all_yearly = pd.merge(all_yearly,other_yearly, on=\"Year\")"
   ]
  },
  {
   "cell_type": "code",
   "execution_count": 10,
   "metadata": {},
   "outputs": [],
   "source": [
    "yearlysales_df = all_yearly.rename(columns = {\"Sales_shopping\":\"shopping_sales\",\n",
    "                                              \"Sales_furniture\":\"furniture_sales\",\n",
    "                                              \"Sales_electronic\":\"electronic_sales\",\n",
    "                                              \"Sales_grocery\":\"grocery_sales\"})"
   ]
  },
  {
   "cell_type": "code",
   "execution_count": 12,
   "metadata": {},
   "outputs": [],
   "source": [
    "yearlysales_df = yearlysales_df.loc[['2000','2001','2002','2003','2004','2005','2006','2007','2008','2009','2010','2011','2012','2013','2014','2015'],:]"
   ]
  },
  {
   "cell_type": "code",
   "execution_count": 13,
   "metadata": {},
   "outputs": [
    {
     "data": {
      "text/html": [
       "<div>\n",
       "<style scoped>\n",
       "    .dataframe tbody tr th:only-of-type {\n",
       "        vertical-align: middle;\n",
       "    }\n",
       "\n",
       "    .dataframe tbody tr th {\n",
       "        vertical-align: top;\n",
       "    }\n",
       "\n",
       "    .dataframe thead th {\n",
       "        text-align: right;\n",
       "    }\n",
       "</style>\n",
       "<table border=\"1\" class=\"dataframe\">\n",
       "  <thead>\n",
       "    <tr style=\"text-align: right;\">\n",
       "      <th></th>\n",
       "      <th>shopping_sales</th>\n",
       "      <th>furniture_sales</th>\n",
       "      <th>electronic_sales</th>\n",
       "      <th>grocery_sales</th>\n",
       "    </tr>\n",
       "    <tr>\n",
       "      <th>Year</th>\n",
       "      <th></th>\n",
       "      <th></th>\n",
       "      <th></th>\n",
       "      <th></th>\n",
       "    </tr>\n",
       "  </thead>\n",
       "  <tbody>\n",
       "    <tr>\n",
       "      <th>2000</th>\n",
       "      <td>167112.0</td>\n",
       "      <td>91198.0</td>\n",
       "      <td>90369.0</td>\n",
       "      <td>401587.0</td>\n",
       "    </tr>\n",
       "    <tr>\n",
       "      <th>2001</th>\n",
       "      <td>167593.0</td>\n",
       "      <td>91480.0</td>\n",
       "      <td>88009.0</td>\n",
       "      <td>418561.0</td>\n",
       "    </tr>\n",
       "    <tr>\n",
       "      <th>2002</th>\n",
       "      <td>172308.0</td>\n",
       "      <td>94468.0</td>\n",
       "      <td>91188.0</td>\n",
       "      <td>420292.0</td>\n",
       "    </tr>\n",
       "    <tr>\n",
       "      <th>2003</th>\n",
       "      <td>178417.0</td>\n",
       "      <td>96619.0</td>\n",
       "      <td>92505.0</td>\n",
       "      <td>428342.0</td>\n",
       "    </tr>\n",
       "    <tr>\n",
       "      <th>2004</th>\n",
       "      <td>189393.0</td>\n",
       "      <td>103327.0</td>\n",
       "      <td>99637.0</td>\n",
       "      <td>439949.0</td>\n",
       "    </tr>\n",
       "    <tr>\n",
       "      <th>2005</th>\n",
       "      <td>200194.0</td>\n",
       "      <td>109069.0</td>\n",
       "      <td>106128.0</td>\n",
       "      <td>457697.0</td>\n",
       "    </tr>\n",
       "    <tr>\n",
       "      <th>2006</th>\n",
       "      <td>212950.0</td>\n",
       "      <td>113119.0</td>\n",
       "      <td>110105.0</td>\n",
       "      <td>472130.0</td>\n",
       "    </tr>\n",
       "    <tr>\n",
       "      <th>2007</th>\n",
       "      <td>221587.0</td>\n",
       "      <td>111410.0</td>\n",
       "      <td>110258.0</td>\n",
       "      <td>491835.0</td>\n",
       "    </tr>\n",
       "    <tr>\n",
       "      <th>2008</th>\n",
       "      <td>216971.0</td>\n",
       "      <td>98844.0</td>\n",
       "      <td>108827.0</td>\n",
       "      <td>510355.0</td>\n",
       "    </tr>\n",
       "    <tr>\n",
       "      <th>2009</th>\n",
       "      <td>204773.0</td>\n",
       "      <td>84876.0</td>\n",
       "      <td>98067.0</td>\n",
       "      <td>510394.0</td>\n",
       "    </tr>\n",
       "    <tr>\n",
       "      <th>2010</th>\n",
       "      <td>213060.0</td>\n",
       "      <td>85216.0</td>\n",
       "      <td>99720.0</td>\n",
       "      <td>521106.0</td>\n",
       "    </tr>\n",
       "    <tr>\n",
       "      <th>2011</th>\n",
       "      <td>227915.0</td>\n",
       "      <td>87525.0</td>\n",
       "      <td>101942.0</td>\n",
       "      <td>547530.0</td>\n",
       "    </tr>\n",
       "    <tr>\n",
       "      <th>2012</th>\n",
       "      <td>238766.0</td>\n",
       "      <td>91438.0</td>\n",
       "      <td>103506.0</td>\n",
       "      <td>562952.0</td>\n",
       "    </tr>\n",
       "    <tr>\n",
       "      <th>2013</th>\n",
       "      <td>244786.0</td>\n",
       "      <td>95325.0</td>\n",
       "      <td>104750.0</td>\n",
       "      <td>574968.0</td>\n",
       "    </tr>\n",
       "    <tr>\n",
       "      <th>2014</th>\n",
       "      <td>250287.0</td>\n",
       "      <td>99607.0</td>\n",
       "      <td>104923.0</td>\n",
       "      <td>599806.0</td>\n",
       "    </tr>\n",
       "    <tr>\n",
       "      <th>2015</th>\n",
       "      <td>255737.0</td>\n",
       "      <td>106407.0</td>\n",
       "      <td>103870.0</td>\n",
       "      <td>613456.0</td>\n",
       "    </tr>\n",
       "  </tbody>\n",
       "</table>\n",
       "</div>"
      ],
      "text/plain": [
       "      shopping_sales  furniture_sales  electronic_sales  grocery_sales\n",
       "Year                                                                  \n",
       "2000        167112.0          91198.0           90369.0       401587.0\n",
       "2001        167593.0          91480.0           88009.0       418561.0\n",
       "2002        172308.0          94468.0           91188.0       420292.0\n",
       "2003        178417.0          96619.0           92505.0       428342.0\n",
       "2004        189393.0         103327.0           99637.0       439949.0\n",
       "2005        200194.0         109069.0          106128.0       457697.0\n",
       "2006        212950.0         113119.0          110105.0       472130.0\n",
       "2007        221587.0         111410.0          110258.0       491835.0\n",
       "2008        216971.0          98844.0          108827.0       510355.0\n",
       "2009        204773.0          84876.0           98067.0       510394.0\n",
       "2010        213060.0          85216.0           99720.0       521106.0\n",
       "2011        227915.0          87525.0          101942.0       547530.0\n",
       "2012        238766.0          91438.0          103506.0       562952.0\n",
       "2013        244786.0          95325.0          104750.0       574968.0\n",
       "2014        250287.0          99607.0          104923.0       599806.0\n",
       "2015        255737.0         106407.0          103870.0       613456.0"
      ]
     },
     "execution_count": 13,
     "metadata": {},
     "output_type": "execute_result"
    }
   ],
   "source": [
    "yearlysales_df"
   ]
  },
  {
   "cell_type": "code",
   "execution_count": 14,
   "metadata": {},
   "outputs": [],
   "source": [
    "yearlysales_df.to_csv(\"Output/clean_sales_data.csv\", index=True, header=True)"
   ]
  },
  {
   "cell_type": "code",
   "execution_count": null,
   "metadata": {},
   "outputs": [],
   "source": []
  }
 ],
 "metadata": {
  "kernelspec": {
   "display_name": "Python 3",
   "language": "python",
   "name": "python3"
  },
  "language_info": {
   "codemirror_mode": {
    "name": "ipython",
    "version": 3
   },
   "file_extension": ".py",
   "mimetype": "text/x-python",
   "name": "python",
   "nbconvert_exporter": "python",
   "pygments_lexer": "ipython3",
   "version": "3.7.1"
  }
 },
 "nbformat": 4,
 "nbformat_minor": 2
}
